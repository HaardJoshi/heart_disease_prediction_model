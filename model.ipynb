{
  "nbformat": 4,
  "nbformat_minor": 0,
  "metadata": {
    "colab": {
      "provenance": []
    },
    "kernelspec": {
      "name": "python3",
      "display_name": "Python 3"
    },
    "language_info": {
      "name": "python"
    }
  },
  "cells": [
    {
      "cell_type": "markdown",
      "source": [
        "# **Problem :**\n",
        "As part of a team of data scientists, you have been provided with a dataset and requested to develop a KNN model to predict whether someone has a potential risk of heart disease or not.\n",
        "\n",
        "The dataset is in the form of a csv file called data-heart.csv. This dataset is available on the Moodle site under Week 11 Assessment. This dataset is complete, as it is, and therefore, there is no need to check for missing values or zero values.\n",
        "\n",
        "**Your task is to create a KNN model and predict the potential risk of heart disease.**"
      ],
      "metadata": {
        "id": "TEEi4LyaNTFJ"
      }
    },
    {
      "cell_type": "markdown",
      "source": [
        "### **Step-1:** Importing libraries"
      ],
      "metadata": {
        "id": "k-aS-RufNNBp"
      }
    },
    {
      "cell_type": "code",
      "execution_count": 32,
      "metadata": {
        "id": "UZgLcnrTLA0o"
      },
      "outputs": [],
      "source": [
        "# --------------------\n",
        "#  data manipulation\n",
        "# --------------------\n",
        "import pandas as pd\n",
        "import numpy as np\n",
        "\n",
        "# --------------------\n",
        "#  data visualization\n",
        "# --------------------\n",
        "import matplotlib.pyplot as plt\n",
        "import seaborn as sns\n",
        "\n",
        "# ---------------------------------------------------------------------------\n",
        "#   Machine Learning: model selection, preprocessing, and model evaluation\n",
        "# ---------------------------------------------------------------------------\n",
        "\n",
        "# [1] split data into training and testing datasets\n",
        "from sklearn.model_selection import train_test_split\n",
        "\n",
        "# [2] featureScaling; to normalize the data\n",
        "from sklearn.preprocessing import StandardScaler\n",
        "\n",
        "# [3] define and fit the KNN model\n",
        "from sklearn.neighbors import KNeighborsClassifier\n",
        "\n",
        "# [4] evaluate the model\n",
        "from sklearn.metrics import confusion_matrix, accuracy_score, precision_score, recall_score, f1_score, classification_report"
      ]
    },
    {
      "cell_type": "markdown",
      "source": [
        "### **Step-2:** Loading and printing the dataset"
      ],
      "metadata": {
        "id": "0kooxH8dXdl8"
      }
    },
    {
      "cell_type": "code",
      "source": [
        "# load the dataset\n",
        "datapath = '/content/data-heart.csv'\n",
        "df = pd.read_csv(datapath)\n",
        "\n",
        "# check the length\n",
        "print(len(df))\n",
        "\n",
        "# print first 5 rows\n",
        "print(df.head())"
      ],
      "metadata": {
        "colab": {
          "base_uri": "https://localhost:8080/"
        },
        "id": "g1J9ut32XR_f",
        "outputId": "8d5759dc-9a91-48fc-a205-34a105c81ef9"
      },
      "execution_count": 33,
      "outputs": [
        {
          "output_type": "stream",
          "name": "stdout",
          "text": [
            "303\n",
            "   age  sex  cp  trestbps  chol  fbs  restecg  thalach  exang  oldpeak  slope  \\\n",
            "0   63    1   3       145   233    1        0      150      0      2.3      0   \n",
            "1   37    1   2       130   250    0        1      187      0      3.5      0   \n",
            "2   41    0   1       130   204    0        0      172      0      1.4      2   \n",
            "3   56    1   1       120   236    0        1      178      0      0.8      2   \n",
            "4   57    0   0       120   354    0        1      163      1      0.6      2   \n",
            "\n",
            "   ca  thal  target  \n",
            "0   0     1       1  \n",
            "1   0     2       1  \n",
            "2   0     2       1  \n",
            "3   0     2       1  \n",
            "4   0     2       1  \n"
          ]
        }
      ]
    },
    {
      "cell_type": "markdown",
      "source": [
        "### **Step-3:** Identifying the features and target"
      ],
      "metadata": {
        "id": "RQQ47rfEaP9q"
      }
    },
    {
      "cell_type": "code",
      "source": [
        "# identifying features\n",
        "\n",
        "# -- set all fields as a feature except the 'target'\n",
        "x = df.drop(columns='target')\n",
        "y = df['target']"
      ],
      "metadata": {
        "id": "bz1RT3O4ab8V"
      },
      "execution_count": 34,
      "outputs": []
    },
    {
      "cell_type": "markdown",
      "source": [
        "### **Step-4:** Split the data"
      ],
      "metadata": {
        "id": "3mKZBZZoeokm"
      }
    },
    {
      "cell_type": "code",
      "source": [
        "# spli the data into training and testing data\n",
        "x_train, x_test, y_train, y_test = train_test_split(x, y, test_size=0.2, random_state= 5)"
      ],
      "metadata": {
        "id": "A1orfwslemCy"
      },
      "execution_count": 6,
      "outputs": []
    },
    {
      "cell_type": "markdown",
      "source": [
        "### **Step-5:** Feature Scaling"
      ],
      "metadata": {
        "id": "zUfIcavrgk1a"
      }
    },
    {
      "cell_type": "code",
      "source": [
        "# initialize the scaler\n",
        "scaler = StandardScaler()\n",
        "\n",
        "# scale the data between 0 and 1 for data consistency\n",
        "# fit the scaler on the training data and transform both the training and test data\n",
        "x_train_scaled = scaler.fit_transform(x_train)\n",
        "x_test_scaled = scaler.transform(x_test)\n",
        "\n",
        "# check the scaled data\n",
        "print(x_train_scaled[:5])"
      ],
      "metadata": {
        "colab": {
          "base_uri": "https://localhost:8080/"
        },
        "id": "JsRgRZcYgq9W",
        "outputId": "5526c89a-7fbc-4421-a45c-baa7e2ff3b82"
      },
      "execution_count": 35,
      "outputs": [
        {
          "output_type": "stream",
          "name": "stdout",
          "text": [
            "[[ 0.07030624 -1.50674161 -0.97227182  2.75369729  1.61791953 -0.43159531\n",
            "   2.76260089 -1.48892705  1.50674161  2.14467764 -0.65683133 -0.69043052\n",
            "  -0.49747423]\n",
            " [-1.2729129  -1.50674161 -0.97227182  0.02536671  1.89152996  2.31698534\n",
            "  -1.07963713 -0.64331359  1.50674161  1.78876337 -0.65683133 -0.69043052\n",
            "   1.15168692]\n",
            " [-0.15356362  0.6636838   0.97227182 -0.08831373  0.03488775  2.31698534\n",
            "  -1.07963713  1.00340736 -0.6636838  -0.88059368  0.98186126  2.31108179\n",
            "  -0.49747423]\n",
            " [-0.93710811 -1.50674161 -0.97227182  0.36640803 -0.02374305 -0.43159531\n",
            "  -1.07963713  0.06878196  1.50674161 -0.88059368 -0.65683133 -0.69043052\n",
            "  -0.49747423]\n",
            " [-0.71323826 -1.50674161  0.97227182 -0.08831373  0.60165222 -0.43159531\n",
            "   0.84148188 -0.50979567 -0.6636838  -0.70263655  0.98186126 -0.69043052\n",
            "  -0.49747423]]\n"
          ]
        }
      ]
    },
    {
      "cell_type": "markdown",
      "source": [
        "### **Step-6:** Find the optimal neighbour for KNN model"
      ],
      "metadata": {
        "id": "VIiESyWSn7-F"
      }
    },
    {
      "cell_type": "code",
      "source": [
        "# start by checking the accuracy for values 1-20\n",
        "\n",
        "# initializing the list to store accuracy\n",
        "accuracy = []\n",
        "\n",
        "# function to check the accuracy for values 1-20 and store them in a list\n",
        "for k in range(1, 21):\n",
        "    # define the KNN model with current k\n",
        "    knn = KNeighborsClassifier(n_neighbors=k)\n",
        "\n",
        "    # train the model on the training data\n",
        "    knn.fit(x_train_scaled, y_train)\n",
        "\n",
        "    # predict on the test data\n",
        "    y_pred = knn.predict(x_test_scaled)\n",
        "\n",
        "    # calculate accuracy and append to the list\n",
        "    accuracy.append(accuracy_score(y_test, y_pred))\n",
        "\n",
        "\n",
        "# function to get the max value and its index for any list\n",
        "def get_max_index(list):\n",
        "  for i in range(len(list)):\n",
        "    if list[i] == max(list):\n",
        "      return i, list[i]\n",
        "\n",
        "# compare and give out the max accuracy and its index\n",
        "get_max_index(accuracy)"
      ],
      "metadata": {
        "colab": {
          "base_uri": "https://localhost:8080/"
        },
        "id": "aT_Q8IK6oF0C",
        "outputId": "eb2fe52f-1327-47bc-952a-efc6e38a16ec"
      },
      "execution_count": 36,
      "outputs": [
        {
          "output_type": "execute_result",
          "data": {
            "text/plain": [
              "(6, 0.9016393442622951)"
            ]
          },
          "metadata": {},
          "execution_count": 36
        }
      ]
    },
    {
      "cell_type": "markdown",
      "source": [
        "- *Since we got the index 6 as the index with maximum accuracy, we will take the number of neighbours as **'7'** to define the model.*\n",
        "\n",
        "- *This also lines up with the good practise of choosing odd numbers for neighbours.*"
      ],
      "metadata": {
        "id": "VLiQXqyC1RwX"
      }
    },
    {
      "cell_type": "code",
      "source": [
        "# plotting the accuracy for better visualization\n",
        "plt.figure(figsize=(10, 6))\n",
        "plt.plot(range(1, 21), accuracy, marker='o', linestyle='-', color='b')\n",
        "plt.title(\"Accuracy vs. Number of Neighbors (k)\")\n",
        "plt.xlabel(\"Number of Neighbors (k)\")\n",
        "plt.ylabel(\"Accuracy\")\n",
        "plt.grid()\n",
        "plt.show()"
      ],
      "metadata": {
        "colab": {
          "base_uri": "https://localhost:8080/",
          "height": 564
        },
        "id": "qhe4bz9Y_Z_0",
        "outputId": "4f813bb0-7056-49be-d00f-4a3b186dbd68"
      },
      "execution_count": 37,
      "outputs": [
        {
          "output_type": "display_data",
          "data": {
            "text/plain": [
              "<Figure size 1000x600 with 1 Axes>"
            ],
            "image/png": "[encoded data removed]"
          },
          "metadata": {}
        }
      ]
    },
    {
      "cell_type": "markdown",
      "source": [
        "### **Step-7** Define and fit the KNN Model"
      ],
      "metadata": {
        "id": "ikkxrfLlAmOQ"
      }
    },
    {
      "cell_type": "code",
      "source": [
        "# define the model\n",
        "knn = KNeighborsClassifier(n_neighbors=7, p=2, metric = 'euclidean')\n",
        "\n",
        "# train the model\n",
        "knn.fit(x_train_scaled, y_train)\n",
        "\n",
        "# predict on the test set\n",
        "y_pred = knn.predict(x_test_scaled)\n",
        "\n",
        "# print the predictions\n",
        "print(\"Predictions:\", y_pred)\n",
        "print(\"Actual labels:\", y_test.values)"
      ],
      "metadata": {
        "id": "NhpPeRIY_6qM",
        "colab": {
          "base_uri": "https://localhost:8080/"
        },
        "outputId": "4d722487-ba6c-4d0f-ab87-d73d545ce563"
      },
      "execution_count": 38,
      "outputs": [
        {
          "output_type": "stream",
          "name": "stdout",
          "text": [
            "Predictions: [1 0 0 0 1 0 1 0 1 1 1 0 1 1 0 0 0 1 1 0 0 0 1 0 0 1 1 1 1 0 1 1 1 1 0 0 1\n",
            " 1 0 1 0 0 1 0 0 0 0 0 0 0 0 1 1 1 1 1 1 0 1 1 0]\n",
            "Actual labels: [0 0 0 0 1 0 1 0 1 1 1 0 1 1 0 0 0 0 1 0 0 0 1 0 1 1 1 1 1 0 1 1 1 1 0 0 1\n",
            " 1 0 1 1 1 1 0 0 0 0 0 0 0 0 1 1 1 1 1 1 0 0 1 0]\n"
          ]
        }
      ]
    },
    {
      "cell_type": "markdown",
      "source": [
        "### **Step-8** Evaluate the model\n",
        "\n",
        "Evaluation helps to understand how well the model is performing on the test data using key metrics:\n",
        "\n",
        "- **Confusion Matrix**: Summarizes correct/incorrect predictions.\n",
        "- **Accuracy**: Percentage of correct predictions.\n",
        "- **Precision**: Proportion of true positives out of all predicted positives.\n",
        "- **Recall**: Proportion of true positives out of all actual positives.\n",
        "- **F1** Score: Harmonic mean of precision and recall."
      ],
      "metadata": {
        "id": "3GVtwrbT4NPw"
      }
    },
    {
      "cell_type": "code",
      "source": [
        "# generating the confusion matrix\n",
        "cmatrix = confusion_matrix(y_test, y_pred)\n",
        "print(\"Confusion Matrix:\\n\", cmatrix)\n",
        "\n",
        "# plot the confusion matrix\n",
        "plt.figure(figsize=(8, 6))\n",
        "sns.heatmap(cmatrix, annot=True, fmt='d', cmap='Blues', xticklabels=['No Disease', 'Disease'], yticklabels=['No Disease', 'Disease'])\n",
        "plt.xlabel('Predicted')\n",
        "plt.ylabel('Actual')\n",
        "plt.title('Confusion Matrix')\n",
        "plt.show()\n",
        "\n",
        "# compute other metrics\n",
        "acc = accuracy_score(y_test, y_pred)\n",
        "print(\"Accuracy:\", acc)\n",
        "\n",
        "# Print a detailed classification report\n",
        "report = classification_report(y_test, y_pred, target_names=['No Disease', 'Disease'])\n",
        "print(\"\\nClassification Report:\\n\", report)"
      ],
      "metadata": {
        "colab": {
          "base_uri": "https://localhost:8080/",
          "height": 832
        },
        "id": "5HJ0k1Xp4TTx",
        "outputId": "dfd1fd57-6db7-4cc6-9fc2-1490f8606a7d"
      },
      "execution_count": 39,
      "outputs": [
        {
          "output_type": "stream",
          "name": "stdout",
          "text": [
            "Confusion Matrix:\n",
            " [[27  3]\n",
            " [ 3 28]]\n"
          ]
        },
        {
          "output_type": "display_data",
          "data": {
            "text/plain": [
              "<Figure size 800x600 with 2 Axes>"
            ],
            "image/png": "[encoded data removed]"
          },
          "metadata": {}
        },
        {
          "output_type": "stream",
          "name": "stdout",
          "text": [
            "Accuracy: 0.9016393442622951\n",
            "\n",
            "Classification Report:\n",
            "               precision    recall  f1-score   support\n",
            "\n",
            "  No Disease       0.90      0.90      0.90        30\n",
            "     Disease       0.90      0.90      0.90        31\n",
            "\n",
            "    accuracy                           0.90        61\n",
            "   macro avg       0.90      0.90      0.90        61\n",
            "weighted avg       0.90      0.90      0.90        61\n",
            "\n"
          ]
        }
      ]
    }
  ]
}
